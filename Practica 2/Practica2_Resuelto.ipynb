{
 "cells": [
  {
   "cell_type": "markdown",
   "id": "d20a1ba4-8a46-48b8-b097-9ae87aeeaa88",
   "metadata": {},
   "source": [
    "### 2) Proponga una tarea de clasificación y una tarea de regresión que puedan realizarse a partir de los datos del dataset de obesidad."
   ]
  },
  {
   "cell_type": "code",
   "execution_count": null,
   "id": "2e9e7d84-0db5-47cc-935a-73638bae8eb9",
   "metadata": {},
   "outputs": [],
   "source": []
  },
  {
   "cell_type": "code",
   "execution_count": null,
   "id": "c185dfef-d22b-4e98-866b-9a3beae18cbd",
   "metadata": {},
   "outputs": [],
   "source": []
  }
 ],
 "metadata": {
  "kernelspec": {
   "display_name": "Python 3 (ipykernel)",
   "language": "python",
   "name": "python3"
  },
  "language_info": {
   "codemirror_mode": {
    "name": "ipython",
    "version": 3
   },
   "file_extension": ".py",
   "mimetype": "text/x-python",
   "name": "python",
   "nbconvert_exporter": "python",
   "pygments_lexer": "ipython3",
   "version": "3.13.5"
  }
 },
 "nbformat": 4,
 "nbformat_minor": 5
}
